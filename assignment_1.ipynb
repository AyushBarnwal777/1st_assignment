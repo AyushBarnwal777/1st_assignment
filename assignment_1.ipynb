{
 "cells": [
  {
   "cell_type": "code",
   "execution_count": 1,
   "metadata": {},
   "outputs": [],
   "source": [
    "# Assignment 1\n",
    "# 1st Question:\n",
    "var1 = \"My Name is Ayush Barnwal\"\n",
    "var2 = [1, 2, \"Ayush\", 5.6]\n",
    "var3 = 56.00625\n",
    "var4 = (1, 2, 3, 4)\n"
   ]
  },
  {
   "cell_type": "markdown",
   "metadata": {},
   "source": [
    "# 2nd Question\n",
    "i. String type\n",
    "ii. String type\n",
    "iii. List type\n",
    "iv. Integer type"
   ]
  },
  {
   "cell_type": "code",
   "execution_count": 5,
   "metadata": {},
   "outputs": [
    {
     "name": "stdout",
     "output_type": "stream",
     "text": [
      "2.0\n",
      "1\n",
      "2\n",
      "8\n"
     ]
    }
   ],
   "source": [
    "# 3rd Question\n",
    "# / Operator is used for dividing the values. It results in float datatype.\n",
    "print(10/5) \n",
    "# % It returns the remainder of a division. Return type is integer.\n",
    "print(10%3)\n",
    "# // This opeartor is floor division operator, it returns the integer value.\n",
    "print(11//5)\n",
    "# ** Power operator, it returns the power of 2 numbers\n",
    "print(2**3)"
   ]
  },
  {
   "cell_type": "code",
   "execution_count": 6,
   "metadata": {},
   "outputs": [
    {
     "name": "stdout",
     "output_type": "stream",
     "text": [
      "1\n",
      "2\n",
      "Ayush\n",
      "a\n",
      "78.9\n",
      "True\n",
      "77777777\n",
      "65\n",
      "45\n",
      "90\n"
     ]
    }
   ],
   "source": [
    "# 4th question\n",
    "items = [1, 2, 'Ayush', 'a', 78.9, True, 77777777, 65, 45, 90]\n",
    "for item in items:\n",
    "    print (item)"
   ]
  },
  {
   "cell_type": "code",
   "execution_count": 10,
   "metadata": {},
   "outputs": [
    {
     "name": "stdout",
     "output_type": "stream",
     "text": [
      "3\n"
     ]
    }
   ],
   "source": [
    "# 5th Question\n",
    "a = 8\n",
    "b = 2\n",
    "c = 0\n",
    "while a % b == 0:\n",
    "    a = a/b\n",
    "    c += 1\n",
    "print (c)"
   ]
  },
  {
   "cell_type": "code",
   "execution_count": 11,
   "metadata": {},
   "outputs": [
    {
     "name": "stdout",
     "output_type": "stream",
     "text": [
      "Not Divisible by 3\n",
      "Not Divisible by 3\n",
      "Divisible by 3\n",
      "Not Divisible by 3\n",
      "Not Divisible by 3\n",
      "Divisible by 3\n",
      "Not Divisible by 3\n",
      "Not Divisible by 3\n",
      "Divisible by 3\n",
      "Not Divisible by 3\n",
      "Not Divisible by 3\n",
      "Divisible by 3\n",
      "Not Divisible by 3\n",
      "Not Divisible by 3\n",
      "Divisible by 3\n",
      "Not Divisible by 3\n",
      "Not Divisible by 3\n",
      "Divisible by 3\n",
      "Not Divisible by 3\n",
      "Not Divisible by 3\n",
      "Divisible by 3\n",
      "Not Divisible by 3\n",
      "Not Divisible by 3\n",
      "Divisible by 3\n",
      "Not Divisible by 3\n"
     ]
    }
   ],
   "source": [
    "#6th question\n",
    "numbers = [1, 2, 3, 4, 5, 6, 7, 8, 9, 10, 11, 12, 13, 14, 15, 16, 17, 18, 19, 20, 21, 22, 23, 24, 25]\n",
    "for number in numbers:\n",
    "    if number % 3 == 0:\n",
    "        print (\"Divisible by 3\")\n",
    "    else:\n",
    "        print (\"Not Divisible by 3\")"
   ]
  },
  {
   "cell_type": "markdown",
   "metadata": {},
   "source": [
    "7th Question's Answer:\n",
    "Mutable datatypes are data types in python which can be modified and their values can be altered, whereas Immutable datatypes in python are datatypes which cannot be modified or their values cannot be changed."
   ]
  },
  {
   "cell_type": "code",
   "execution_count": 12,
   "metadata": {},
   "outputs": [
    {
     "name": "stdout",
     "output_type": "stream",
     "text": [
      "['apple', 'banana', 'cherry']\n",
      "['apple', 'banana', 'cherry', 'cucumber']\n"
     ]
    }
   ],
   "source": [
    "# Mutable Data types\n",
    "items = [\"apple\", \"banana\", \"cherry\"]\n",
    "print (items)\n",
    "items.append(\"cucumber\")\n",
    "print(items)"
   ]
  },
  {
   "cell_type": "code",
   "execution_count": 13,
   "metadata": {},
   "outputs": [
    {
     "name": "stdout",
     "output_type": "stream",
     "text": [
      "('apple', 'banana', 'cherries')\n"
     ]
    },
    {
     "ename": "AttributeError",
     "evalue": "'tuple' object has no attribute 'append'",
     "output_type": "error",
     "traceback": [
      "\u001b[1;31m---------------------------------------------------------------------------\u001b[0m",
      "\u001b[1;31mAttributeError\u001b[0m                            Traceback (most recent call last)",
      "\u001b[1;32mc:\\Users\\ayush\\OneDrive\\Desktop\\PW Data Science Master 2.0 Assignment 1\\assignment_1.ipynb Cell 9\u001b[0m line \u001b[0;36m4\n\u001b[0;32m      <a href='vscode-notebook-cell:/c%3A/Users/ayush/OneDrive/Desktop/PW%20Data%20Science%20Master%202.0%20Assignment%201/assignment_1.ipynb#X12sZmlsZQ%3D%3D?line=1'>2</a>\u001b[0m items \u001b[39m=\u001b[39m (\u001b[39m\"\u001b[39m\u001b[39mapple\u001b[39m\u001b[39m\"\u001b[39m, \u001b[39m\"\u001b[39m\u001b[39mbanana\u001b[39m\u001b[39m\"\u001b[39m, \u001b[39m\"\u001b[39m\u001b[39mcherries\u001b[39m\u001b[39m\"\u001b[39m)\n\u001b[0;32m      <a href='vscode-notebook-cell:/c%3A/Users/ayush/OneDrive/Desktop/PW%20Data%20Science%20Master%202.0%20Assignment%201/assignment_1.ipynb#X12sZmlsZQ%3D%3D?line=2'>3</a>\u001b[0m \u001b[39mprint\u001b[39m (items)\n\u001b[1;32m----> <a href='vscode-notebook-cell:/c%3A/Users/ayush/OneDrive/Desktop/PW%20Data%20Science%20Master%202.0%20Assignment%201/assignment_1.ipynb#X12sZmlsZQ%3D%3D?line=3'>4</a>\u001b[0m items\u001b[39m.\u001b[39;49mappend(\u001b[39m\"\u001b[39m\u001b[39mcucumber\u001b[39m\u001b[39m\"\u001b[39m)\n\u001b[0;32m      <a href='vscode-notebook-cell:/c%3A/Users/ayush/OneDrive/Desktop/PW%20Data%20Science%20Master%202.0%20Assignment%201/assignment_1.ipynb#X12sZmlsZQ%3D%3D?line=4'>5</a>\u001b[0m \u001b[39mprint\u001b[39m (items)\n",
      "\u001b[1;31mAttributeError\u001b[0m: 'tuple' object has no attribute 'append'"
     ]
    }
   ],
   "source": [
    "#Immutable Datatypes\n",
    "items = (\"apple\", \"banana\", \"cherries\")\n",
    "print (items)\n",
    "items.append(\"cucumber\") #This throws an error\n",
    "print (items)"
   ]
  }
 ],
 "metadata": {
  "kernelspec": {
   "display_name": "Python 3",
   "language": "python",
   "name": "python3"
  },
  "language_info": {
   "codemirror_mode": {
    "name": "ipython",
    "version": 3
   },
   "file_extension": ".py",
   "mimetype": "text/x-python",
   "name": "python",
   "nbconvert_exporter": "python",
   "pygments_lexer": "ipython3",
   "version": "3.11.3"
  },
  "orig_nbformat": 4
 },
 "nbformat": 4,
 "nbformat_minor": 2
}
